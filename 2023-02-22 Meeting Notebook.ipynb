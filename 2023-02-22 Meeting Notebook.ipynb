{
 "cells": [
  {
   "cell_type": "code",
   "execution_count": 26,
   "id": "7d9ddc1e",
   "metadata": {},
   "outputs": [],
   "source": [
    "import geopandas as gpd\n",
    "import pandas as pd\n",
    "import numpy as np\n",
    "import matplotlib.pyplot as plt\n",
    "import pyproj\n",
    "pyproj.datadir.set_data_dir('/Users/libbykoolik/opt/anaconda3/envs/isrm_calcs_env/share/proj')"
   ]
  },
  {
   "cell_type": "code",
   "execution_count": 3,
   "id": "a6183e78",
   "metadata": {},
   "outputs": [],
   "source": [
    "oehha_0308_fp = '/Users/libbykoolik/Downloads/drive-download-20230222T223623Z-001/stk12_FULL_0308.shp'\n",
    "oehha_0308 = gpd.read_file(oehha_0308_fp)"
   ]
  },
  {
   "cell_type": "code",
   "execution_count": 4,
   "id": "0d74996a",
   "metadata": {},
   "outputs": [
    {
     "data": {
      "text/html": [
       "<div>\n",
       "<style scoped>\n",
       "    .dataframe tbody tr th:only-of-type {\n",
       "        vertical-align: middle;\n",
       "    }\n",
       "\n",
       "    .dataframe tbody tr th {\n",
       "        vertical-align: top;\n",
       "    }\n",
       "\n",
       "    .dataframe thead th {\n",
       "        text-align: right;\n",
       "    }\n",
       "</style>\n",
       "<table border=\"1\" class=\"dataframe\">\n",
       "  <thead>\n",
       "    <tr style=\"text-align: right;\">\n",
       "      <th></th>\n",
       "      <th>arbd_fc</th>\n",
       "      <th>ARBID</th>\n",
       "      <th>fcd2012</th>\n",
       "      <th>fcd2017</th>\n",
       "      <th>facdthr</th>\n",
       "      <th>arb__12</th>\n",
       "      <th>RECODE</th>\n",
       "      <th>DIS</th>\n",
       "      <th>AB</th>\n",
       "      <th>CO</th>\n",
       "      <th>...</th>\n",
       "      <th>VOC</th>\n",
       "      <th>NH3</th>\n",
       "      <th>Lt_WGS84</th>\n",
       "      <th>Ln_WGS84</th>\n",
       "      <th>DUP</th>\n",
       "      <th>cnt_ARB</th>\n",
       "      <th>TON</th>\n",
       "      <th>NA_val2</th>\n",
       "      <th>LL_SOUR</th>\n",
       "      <th>geometry</th>\n",
       "    </tr>\n",
       "  </thead>\n",
       "  <tbody>\n",
       "    <tr>\n",
       "      <th>0</th>\n",
       "      <td>100001_50001051</td>\n",
       "      <td>100001.0</td>\n",
       "      <td>50001051.0</td>\n",
       "      <td>50001051.0</td>\n",
       "      <td>NaN</td>\n",
       "      <td>100001_50001051</td>\n",
       "      <td>0</td>\n",
       "      <td>MOJ</td>\n",
       "      <td>MD</td>\n",
       "      <td>36.0</td>\n",
       "      <td>...</td>\n",
       "      <td>0.0508</td>\n",
       "      <td>7.0234</td>\n",
       "      <td>35.766</td>\n",
       "      <td>-117.383</td>\n",
       "      <td>0</td>\n",
       "      <td>1.0</td>\n",
       "      <td>0</td>\n",
       "      <td>0</td>\n",
       "      <td>LL</td>\n",
       "      <td>POINT (-1816672.987 -263833.701)</td>\n",
       "    </tr>\n",
       "    <tr>\n",
       "      <th>1</th>\n",
       "      <td>100001_50001051</td>\n",
       "      <td>100001.0</td>\n",
       "      <td>50001051.0</td>\n",
       "      <td>50001051.0</td>\n",
       "      <td>NaN</td>\n",
       "      <td>100001_50001051</td>\n",
       "      <td>0</td>\n",
       "      <td>MOJ</td>\n",
       "      <td>MD</td>\n",
       "      <td>36.0</td>\n",
       "      <td>...</td>\n",
       "      <td>0.0000</td>\n",
       "      <td>0.0000</td>\n",
       "      <td>35.766</td>\n",
       "      <td>-117.383</td>\n",
       "      <td>0</td>\n",
       "      <td>1.0</td>\n",
       "      <td>0</td>\n",
       "      <td>0</td>\n",
       "      <td>LL</td>\n",
       "      <td>POINT (-1816672.987 -263833.701)</td>\n",
       "    </tr>\n",
       "    <tr>\n",
       "      <th>2</th>\n",
       "      <td>100001_50001051</td>\n",
       "      <td>100001.0</td>\n",
       "      <td>50001051.0</td>\n",
       "      <td>50001051.0</td>\n",
       "      <td>NaN</td>\n",
       "      <td>100001_50001051</td>\n",
       "      <td>0</td>\n",
       "      <td>MOJ</td>\n",
       "      <td>MD</td>\n",
       "      <td>36.0</td>\n",
       "      <td>...</td>\n",
       "      <td>0.0000</td>\n",
       "      <td>0.0000</td>\n",
       "      <td>35.766</td>\n",
       "      <td>-117.383</td>\n",
       "      <td>0</td>\n",
       "      <td>1.0</td>\n",
       "      <td>0</td>\n",
       "      <td>0</td>\n",
       "      <td>LL</td>\n",
       "      <td>POINT (-1816672.987 -263833.701)</td>\n",
       "    </tr>\n",
       "    <tr>\n",
       "      <th>3</th>\n",
       "      <td>100001_50001051</td>\n",
       "      <td>100001.0</td>\n",
       "      <td>50001051.0</td>\n",
       "      <td>50001051.0</td>\n",
       "      <td>NaN</td>\n",
       "      <td>100001_50001051</td>\n",
       "      <td>0</td>\n",
       "      <td>MOJ</td>\n",
       "      <td>MD</td>\n",
       "      <td>36.0</td>\n",
       "      <td>...</td>\n",
       "      <td>0.0000</td>\n",
       "      <td>0.0000</td>\n",
       "      <td>35.766</td>\n",
       "      <td>-117.383</td>\n",
       "      <td>0</td>\n",
       "      <td>1.0</td>\n",
       "      <td>0</td>\n",
       "      <td>0</td>\n",
       "      <td>LL</td>\n",
       "      <td>POINT (-1816672.987 -263833.701)</td>\n",
       "    </tr>\n",
       "    <tr>\n",
       "      <th>4</th>\n",
       "      <td>100001_50001051</td>\n",
       "      <td>100001.0</td>\n",
       "      <td>50001051.0</td>\n",
       "      <td>50001051.0</td>\n",
       "      <td>NaN</td>\n",
       "      <td>100001_50001051</td>\n",
       "      <td>0</td>\n",
       "      <td>MOJ</td>\n",
       "      <td>MD</td>\n",
       "      <td>36.0</td>\n",
       "      <td>...</td>\n",
       "      <td>0.0000</td>\n",
       "      <td>0.0000</td>\n",
       "      <td>35.766</td>\n",
       "      <td>-117.383</td>\n",
       "      <td>0</td>\n",
       "      <td>1.0</td>\n",
       "      <td>0</td>\n",
       "      <td>0</td>\n",
       "      <td>LL</td>\n",
       "      <td>POINT (-1816672.987 -263833.701)</td>\n",
       "    </tr>\n",
       "  </tbody>\n",
       "</table>\n",
       "<p>5 rows × 39 columns</p>\n",
       "</div>"
      ],
      "text/plain": [
       "           arbd_fc     ARBID     fcd2012     fcd2017  facdthr  \\\n",
       "0  100001_50001051  100001.0  50001051.0  50001051.0      NaN   \n",
       "1  100001_50001051  100001.0  50001051.0  50001051.0      NaN   \n",
       "2  100001_50001051  100001.0  50001051.0  50001051.0      NaN   \n",
       "3  100001_50001051  100001.0  50001051.0  50001051.0      NaN   \n",
       "4  100001_50001051  100001.0  50001051.0  50001051.0      NaN   \n",
       "\n",
       "           arb__12  RECODE  DIS  AB    CO  ...     VOC     NH3 Lt_WGS84  \\\n",
       "0  100001_50001051       0  MOJ  MD  36.0  ...  0.0508  7.0234   35.766   \n",
       "1  100001_50001051       0  MOJ  MD  36.0  ...  0.0000  0.0000   35.766   \n",
       "2  100001_50001051       0  MOJ  MD  36.0  ...  0.0000  0.0000   35.766   \n",
       "3  100001_50001051       0  MOJ  MD  36.0  ...  0.0000  0.0000   35.766   \n",
       "4  100001_50001051       0  MOJ  MD  36.0  ...  0.0000  0.0000   35.766   \n",
       "\n",
       "   Ln_WGS84  DUP  cnt_ARB  TON  NA_val2 LL_SOUR  \\\n",
       "0  -117.383    0      1.0    0        0      LL   \n",
       "1  -117.383    0      1.0    0        0      LL   \n",
       "2  -117.383    0      1.0    0        0      LL   \n",
       "3  -117.383    0      1.0    0        0      LL   \n",
       "4  -117.383    0      1.0    0        0      LL   \n",
       "\n",
       "                           geometry  \n",
       "0  POINT (-1816672.987 -263833.701)  \n",
       "1  POINT (-1816672.987 -263833.701)  \n",
       "2  POINT (-1816672.987 -263833.701)  \n",
       "3  POINT (-1816672.987 -263833.701)  \n",
       "4  POINT (-1816672.987 -263833.701)  \n",
       "\n",
       "[5 rows x 39 columns]"
      ]
     },
     "execution_count": 4,
     "metadata": {},
     "output_type": "execute_result"
    }
   ],
   "source": [
    "oehha_0308.head()"
   ]
  },
  {
   "cell_type": "code",
   "execution_count": 5,
   "id": "110aa093",
   "metadata": {},
   "outputs": [
    {
     "data": {
      "text/plain": [
       "Index(['arbd_fc', 'ARBID', 'fcd2012', 'fcd2017', 'facdthr', 'arb__12',\n",
       "       'RECODE', 'DIS', 'AB', 'CO', 'FAC_I2C', 'STK', 'STKNAME', 'STKHT',\n",
       "       'STKDIAM', 'GT', 'GF', 'GV', 'COORD_S', 'DATUM', 'SPHEROI', 'X_USERC',\n",
       "       'Y_USERC', 'SLAT_NA', 'SLON_NA', 'SRCTYP', 'PM2_5', 'NOX', 'SOX', 'VOC',\n",
       "       'NH3', 'Lt_WGS84', 'Ln_WGS84', 'DUP', 'cnt_ARB', 'TON', 'NA_val2',\n",
       "       'LL_SOUR', 'geometry'],\n",
       "      dtype='object')"
      ]
     },
     "execution_count": 5,
     "metadata": {},
     "output_type": "execute_result"
    }
   ],
   "source": [
    "oehha_0308.columns"
   ]
  },
  {
   "cell_type": "code",
   "execution_count": 6,
   "id": "dbbb15d6",
   "metadata": {},
   "outputs": [],
   "source": [
    "stack_data_csv_fp = '/Users/libbykoolik/Downloads/stk12_FULL_0308.csv'\n",
    "stack_data = pd.read_csv(stack_data_csv_fp)"
   ]
  },
  {
   "cell_type": "code",
   "execution_count": 8,
   "id": "44304116",
   "metadata": {},
   "outputs": [],
   "source": [
    "latlon = stack_data[['arbid_facid','Lat_WGS84','Long_WGS84']]"
   ]
  },
  {
   "cell_type": "code",
   "execution_count": 9,
   "id": "59817d5b",
   "metadata": {},
   "outputs": [
    {
     "data": {
      "text/html": [
       "<div>\n",
       "<style scoped>\n",
       "    .dataframe tbody tr th:only-of-type {\n",
       "        vertical-align: middle;\n",
       "    }\n",
       "\n",
       "    .dataframe tbody tr th {\n",
       "        vertical-align: top;\n",
       "    }\n",
       "\n",
       "    .dataframe thead th {\n",
       "        text-align: right;\n",
       "    }\n",
       "</style>\n",
       "<table border=\"1\" class=\"dataframe\">\n",
       "  <thead>\n",
       "    <tr style=\"text-align: right;\">\n",
       "      <th></th>\n",
       "      <th>arbid_facid</th>\n",
       "      <th>Lat_WGS84</th>\n",
       "      <th>Long_WGS84</th>\n",
       "    </tr>\n",
       "  </thead>\n",
       "  <tbody>\n",
       "    <tr>\n",
       "      <th>0</th>\n",
       "      <td>100001_50001051</td>\n",
       "      <td>35.766</td>\n",
       "      <td>-117.383</td>\n",
       "    </tr>\n",
       "    <tr>\n",
       "      <th>1</th>\n",
       "      <td>100001_50001051</td>\n",
       "      <td>35.766</td>\n",
       "      <td>-117.383</td>\n",
       "    </tr>\n",
       "    <tr>\n",
       "      <th>2</th>\n",
       "      <td>100001_50001051</td>\n",
       "      <td>35.766</td>\n",
       "      <td>-117.383</td>\n",
       "    </tr>\n",
       "    <tr>\n",
       "      <th>3</th>\n",
       "      <td>100001_50001051</td>\n",
       "      <td>35.766</td>\n",
       "      <td>-117.383</td>\n",
       "    </tr>\n",
       "    <tr>\n",
       "      <th>4</th>\n",
       "      <td>100001_50001051</td>\n",
       "      <td>35.766</td>\n",
       "      <td>-117.383</td>\n",
       "    </tr>\n",
       "  </tbody>\n",
       "</table>\n",
       "</div>"
      ],
      "text/plain": [
       "       arbid_facid  Lat_WGS84  Long_WGS84\n",
       "0  100001_50001051     35.766    -117.383\n",
       "1  100001_50001051     35.766    -117.383\n",
       "2  100001_50001051     35.766    -117.383\n",
       "3  100001_50001051     35.766    -117.383\n",
       "4  100001_50001051     35.766    -117.383"
      ]
     },
     "execution_count": 9,
     "metadata": {},
     "output_type": "execute_result"
    }
   ],
   "source": [
    "latlon.head()"
   ]
  },
  {
   "cell_type": "code",
   "execution_count": 15,
   "id": "64668061",
   "metadata": {},
   "outputs": [],
   "source": [
    "geometry = gpd.points_from_xy(y=latlon['Lat_WGS84'], x=latlon['Long_WGS84'])"
   ]
  },
  {
   "cell_type": "code",
   "execution_count": 27,
   "id": "8a9a9a6a",
   "metadata": {},
   "outputs": [],
   "source": [
    "latlon_gdf = gpd.GeoDataFrame(latlon, geometry=geometry, crs='EPSG:4326')"
   ]
  },
  {
   "cell_type": "code",
   "execution_count": 28,
   "id": "fc67a42a",
   "metadata": {},
   "outputs": [
    {
     "data": {
      "text/plain": [
       "<AxesSubplot:>"
      ]
     },
     "execution_count": 28,
     "metadata": {},
     "output_type": "execute_result"
    },
    {
     "data": {
      "image/png": "[encoded data removed]",
      "text/plain": [
       "<Figure size 432x288 with 1 Axes>"
      ]
     },
     "metadata": {
      "needs_background": "light"
     },
     "output_type": "display_data"
    }
   ],
   "source": [
    "latlon_gdf.plot()"
   ]
  },
  {
   "cell_type": "code",
   "execution_count": 18,
   "id": "2a596ca1",
   "metadata": {},
   "outputs": [
    {
     "data": {
      "text/html": [
       "<div>\n",
       "<style scoped>\n",
       "    .dataframe tbody tr th:only-of-type {\n",
       "        vertical-align: middle;\n",
       "    }\n",
       "\n",
       "    .dataframe tbody tr th {\n",
       "        vertical-align: top;\n",
       "    }\n",
       "\n",
       "    .dataframe thead th {\n",
       "        text-align: right;\n",
       "    }\n",
       "</style>\n",
       "<table border=\"1\" class=\"dataframe\">\n",
       "  <thead>\n",
       "    <tr style=\"text-align: right;\">\n",
       "      <th></th>\n",
       "      <th>arbid_facid</th>\n",
       "      <th>Lat_WGS84</th>\n",
       "      <th>Long_WGS84</th>\n",
       "      <th>geometry</th>\n",
       "    </tr>\n",
       "  </thead>\n",
       "  <tbody>\n",
       "    <tr>\n",
       "      <th>0</th>\n",
       "      <td>100001_50001051</td>\n",
       "      <td>35.766</td>\n",
       "      <td>-117.383</td>\n",
       "      <td>POINT (-117.38300 35.76600)</td>\n",
       "    </tr>\n",
       "    <tr>\n",
       "      <th>1</th>\n",
       "      <td>100001_50001051</td>\n",
       "      <td>35.766</td>\n",
       "      <td>-117.383</td>\n",
       "      <td>POINT (-117.38300 35.76600)</td>\n",
       "    </tr>\n",
       "    <tr>\n",
       "      <th>2</th>\n",
       "      <td>100001_50001051</td>\n",
       "      <td>35.766</td>\n",
       "      <td>-117.383</td>\n",
       "      <td>POINT (-117.38300 35.76600)</td>\n",
       "    </tr>\n",
       "    <tr>\n",
       "      <th>3</th>\n",
       "      <td>100001_50001051</td>\n",
       "      <td>35.766</td>\n",
       "      <td>-117.383</td>\n",
       "      <td>POINT (-117.38300 35.76600)</td>\n",
       "    </tr>\n",
       "    <tr>\n",
       "      <th>4</th>\n",
       "      <td>100001_50001051</td>\n",
       "      <td>35.766</td>\n",
       "      <td>-117.383</td>\n",
       "      <td>POINT (-117.38300 35.76600)</td>\n",
       "    </tr>\n",
       "  </tbody>\n",
       "</table>\n",
       "</div>"
      ],
      "text/plain": [
       "       arbid_facid  Lat_WGS84  Long_WGS84                     geometry\n",
       "0  100001_50001051     35.766    -117.383  POINT (-117.38300 35.76600)\n",
       "1  100001_50001051     35.766    -117.383  POINT (-117.38300 35.76600)\n",
       "2  100001_50001051     35.766    -117.383  POINT (-117.38300 35.76600)\n",
       "3  100001_50001051     35.766    -117.383  POINT (-117.38300 35.76600)\n",
       "4  100001_50001051     35.766    -117.383  POINT (-117.38300 35.76600)"
      ]
     },
     "execution_count": 18,
     "metadata": {},
     "output_type": "execute_result"
    }
   ],
   "source": [
    "latlon_gdf.head()"
   ]
  },
  {
   "cell_type": "code",
   "execution_count": 19,
   "id": "2909a584",
   "metadata": {
    "scrolled": true
   },
   "outputs": [
    {
     "data": {
      "text/plain": [
       "<Derived Projected CRS: PROJCS[\"Lambert_Conformal_Conic\",GEOGCS[\"GCS_unnam ...>\n",
       "Name: Lambert_Conformal_Conic\n",
       "Axis Info [cartesian]:\n",
       "- [east]: Easting (Meter)\n",
       "- [north]: Northing (Meter)\n",
       "Area of Use:\n",
       "- undefined\n",
       "Coordinate Operation:\n",
       "- name: unnamed\n",
       "- method: Lambert Conic Conformal (2SP)\n",
       "Datum: D_unknown\n",
       "- Ellipsoid: Unknown\n",
       "- Prime Meridian: Greenwich"
      ]
     },
     "execution_count": 19,
     "metadata": {},
     "output_type": "execute_result"
    }
   ],
   "source": [
    "oehha_0308.crs"
   ]
  },
  {
   "cell_type": "code",
   "execution_count": 29,
   "id": "b653c74a",
   "metadata": {},
   "outputs": [
    {
     "data": {
      "text/plain": [
       "False"
      ]
     },
     "execution_count": 29,
     "metadata": {},
     "output_type": "execute_result"
    }
   ],
   "source": [
    "oehha_0308.crs == latlon_gdf.crs"
   ]
  },
  {
   "cell_type": "code",
   "execution_count": 30,
   "id": "f24cc4a4",
   "metadata": {},
   "outputs": [],
   "source": [
    "oehha_0308_WGS = oehha_0308.to_crs(latlon_gdf.crs)"
   ]
  },
  {
   "cell_type": "code",
   "execution_count": 32,
   "id": "035007ca",
   "metadata": {},
   "outputs": [
    {
     "data": {
      "text/plain": [
       "(38.0, 40.0)"
      ]
     },
     "execution_count": 32,
     "metadata": {},
     "output_type": "execute_result"
    },
    {
     "data": {
      "image/png": "[encoded data removed]",
      "text/plain": [
       "<Figure size 432x288 with 1 Axes>"
      ]
     },
     "metadata": {
      "needs_background": "light"
     },
     "output_type": "display_data"
    }
   ],
   "source": [
    "fig, ax = plt.subplots()\n",
    "oehha_0308_WGS.plot(ax=ax, facecolor='blue')\n",
    "latlon_gdf.plot(ax=ax, facecolor='red')\n",
    "ax.set_xlim([-122,-120])\n",
    "ax.set_ylim([38,40])"
   ]
  },
  {
   "cell_type": "code",
   "execution_count": 33,
   "id": "c06cffb9",
   "metadata": {},
   "outputs": [
    {
     "data": {
      "text/plain": [
       "(38.0, 40.0)"
      ]
     },
     "execution_count": 33,
     "metadata": {},
     "output_type": "execute_result"
    },
    {
     "data": {
      "image/png": "[encoded data removed]",
      "text/plain": [
       "<Figure size 432x288 with 1 Axes>"
      ]
     },
     "metadata": {
      "needs_background": "light"
     },
     "output_type": "display_data"
    }
   ],
   "source": [
    "fig, ax = plt.subplots()\n",
    "oehha_0308_WGS.plot(ax=ax, facecolor='blue')\n",
    "ax.set_xlim([-122,-120])\n",
    "ax.set_ylim([38,40])"
   ]
  },
  {
   "cell_type": "code",
   "execution_count": 34,
   "id": "25c5f465",
   "metadata": {},
   "outputs": [
    {
     "data": {
      "text/plain": [
       "<Geographic 2D CRS: EPSG:4326>\n",
       "Name: WGS 84\n",
       "Axis Info [ellipsoidal]:\n",
       "- Lat[north]: Geodetic latitude (degree)\n",
       "- Lon[east]: Geodetic longitude (degree)\n",
       "Area of Use:\n",
       "- name: World.\n",
       "- bounds: (-180.0, -90.0, 180.0, 90.0)\n",
       "Datum: World Geodetic System 1984 ensemble\n",
       "- Ellipsoid: WGS 84\n",
       "- Prime Meridian: Greenwich"
      ]
     },
     "execution_count": 34,
     "metadata": {},
     "output_type": "execute_result"
    }
   ],
   "source": [
    "latlon_gdf.crs"
   ]
  },
  {
   "cell_type": "code",
   "execution_count": null,
   "id": "50bfc5ea",
   "metadata": {},
   "outputs": [],
   "source": []
  }
 ],
 "metadata": {
  "kernelspec": {
   "display_name": "Python 3 (ipykernel)",
   "language": "python",
   "name": "python3"
  },
  "language_info": {
   "codemirror_mode": {
    "name": "ipython",
    "version": 3
   },
   "file_extension": ".py",
   "mimetype": "text/x-python",
   "name": "python",
   "nbconvert_exporter": "python",
   "pygments_lexer": "ipython3",
   "version": "3.10.2"
  }
 },
 "nbformat": 4,
 "nbformat_minor": 5
}
