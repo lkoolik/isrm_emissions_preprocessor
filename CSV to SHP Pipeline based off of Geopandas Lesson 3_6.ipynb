{
 "cells": [
  {
   "cell_type": "markdown",
   "metadata": {},
   "source": [
    "# Spatial Queries\n",
    "\n",
    "In spatial analysis, our goal is not just to make nice maps, but to actually run analyses that leverage the explicitly spatial nature of our data. The process of doing this is known as **spatial analysis**.\n",
    "\n",
    "To construct spatial analyses, we string together series of spatial operations in such a way that the end result answers our question of interest. There are many such spatial operations. These are known as **spatial queries**.\n",
    "\n",
    "These queries can be divided into:\n",
    "\n",
    "- **Measurement queries**\n",
    "    - What is feature A's **length**?\n",
    "    - What is feature A's **area**?\n",
    "    - What is feature A's **perimeter**?\n",
    "    - What is feature A's **distance** from feature B?\n",
    "- **Relationship queries**\n",
    "    - Is feature A **within** feature B?\n",
    "    - Does feature A **intersect** with feature B?\n",
    "    - Does feature A **cross** feature B?\n",
    "    \n",
    "Spatial queries are not limited to the examples we've shown here.\n",
    "\n",
    "We'll work through examples of each of those types of queries. Then, we'll see an example of a very common spatial analysis that is a conceptual amalgam of those two types: **proximity analysis**.\n",
    "\n",
    "<!--\n",
    "- Expected time to complete\n",
    "    - Lecture + Questions: 45 minutes\n",
    "    - Exercises: 20 minutes\n",
    "-->"
   ]
  },
  {
   "cell_type": "code",
   "execution_count": 1,
   "metadata": {},
   "outputs": [],
   "source": [
    "import pandas as pd\n",
    "import geopandas as gpd\n",
    "import numpy as np\n",
    "import matplotlib\n",
    "import matplotlib.pyplot as plt\n",
    "import pyproj\n",
    "\n",
    "%matplotlib inline  "
   ]
  },
  {
   "cell_type": "markdown",
   "metadata": {},
   "source": [
    "## Load and Prep Some Data"
   ]
  },
  {
   "cell_type": "markdown",
   "metadata": {},
   "source": [
    "Let's read in our Census tracts data again:"
   ]
  },
  {
   "cell_type": "code",
   "execution_count": 2,
   "metadata": {},
   "outputs": [],
   "source": [
    "example = gpd.read_file(\"/Users/aptegroup/Downloads/Thomas-Research/example.shp\")"
   ]
  },
  {
   "cell_type": "code",
   "execution_count": 3,
   "metadata": {},
   "outputs": [
    {
     "data": {
      "text/html": [
       "<div>\n",
       "<style scoped>\n",
       "    .dataframe tbody tr th:only-of-type {\n",
       "        vertical-align: middle;\n",
       "    }\n",
       "\n",
       "    .dataframe tbody tr th {\n",
       "        vertical-align: top;\n",
       "    }\n",
       "\n",
       "    .dataframe thead th {\n",
       "        text-align: right;\n",
       "    }\n",
       "</style>\n",
       "<table border=\"1\" class=\"dataframe\">\n",
       "  <thead>\n",
       "    <tr style=\"text-align: right;\">\n",
       "      <th></th>\n",
       "      <th>I_CELL</th>\n",
       "      <th>J_CELL</th>\n",
       "      <th>NH3</th>\n",
       "      <th>NOX</th>\n",
       "      <th>PM25</th>\n",
       "      <th>ROG</th>\n",
       "      <th>SOX</th>\n",
       "      <th>HEIGHT_M</th>\n",
       "      <th>geometry</th>\n",
       "    </tr>\n",
       "  </thead>\n",
       "  <tbody>\n",
       "    <tr>\n",
       "      <th>0</th>\n",
       "      <td>369</td>\n",
       "      <td>934</td>\n",
       "      <td>0.000009</td>\n",
       "      <td>0.052552</td>\n",
       "      <td>0.000867</td>\n",
       "      <td>0.112752</td>\n",
       "      <td>0.000100</td>\n",
       "      <td>0.0</td>\n",
       "      <td>POLYGON ((-316000.000 369000.000, -316000.000 ...</td>\n",
       "    </tr>\n",
       "    <tr>\n",
       "      <th>1</th>\n",
       "      <td>370</td>\n",
       "      <td>934</td>\n",
       "      <td>0.000065</td>\n",
       "      <td>0.363577</td>\n",
       "      <td>0.005995</td>\n",
       "      <td>0.780061</td>\n",
       "      <td>0.000694</td>\n",
       "      <td>0.0</td>\n",
       "      <td>POLYGON ((-315000.000 369000.000, -315000.000 ...</td>\n",
       "    </tr>\n",
       "    <tr>\n",
       "      <th>2</th>\n",
       "      <td>370</td>\n",
       "      <td>935</td>\n",
       "      <td>0.000002</td>\n",
       "      <td>0.008569</td>\n",
       "      <td>0.000141</td>\n",
       "      <td>0.018384</td>\n",
       "      <td>0.000016</td>\n",
       "      <td>0.0</td>\n",
       "      <td>POLYGON ((-315000.000 370000.000, -315000.000 ...</td>\n",
       "    </tr>\n",
       "    <tr>\n",
       "      <th>3</th>\n",
       "      <td>376</td>\n",
       "      <td>958</td>\n",
       "      <td>0.018784</td>\n",
       "      <td>1.126114</td>\n",
       "      <td>0.028532</td>\n",
       "      <td>1.080482</td>\n",
       "      <td>0.005048</td>\n",
       "      <td>0.0</td>\n",
       "      <td>POLYGON ((-309000.000 393000.000, -309000.000 ...</td>\n",
       "    </tr>\n",
       "    <tr>\n",
       "      <th>4</th>\n",
       "      <td>376</td>\n",
       "      <td>959</td>\n",
       "      <td>0.000169</td>\n",
       "      <td>0.575581</td>\n",
       "      <td>0.011609</td>\n",
       "      <td>1.164903</td>\n",
       "      <td>0.001338</td>\n",
       "      <td>0.0</td>\n",
       "      <td>POLYGON ((-309000.000 394000.000, -309000.000 ...</td>\n",
       "    </tr>\n",
       "  </tbody>\n",
       "</table>\n",
       "</div>"
      ],
      "text/plain": [
       "   I_CELL  J_CELL       NH3       NOX      PM25       ROG       SOX  HEIGHT_M  \\\n",
       "0     369     934  0.000009  0.052552  0.000867  0.112752  0.000100       0.0   \n",
       "1     370     934  0.000065  0.363577  0.005995  0.780061  0.000694       0.0   \n",
       "2     370     935  0.000002  0.008569  0.000141  0.018384  0.000016       0.0   \n",
       "3     376     958  0.018784  1.126114  0.028532  1.080482  0.005048       0.0   \n",
       "4     376     959  0.000169  0.575581  0.011609  1.164903  0.001338       0.0   \n",
       "\n",
       "                                            geometry  \n",
       "0  POLYGON ((-316000.000 369000.000, -316000.000 ...  \n",
       "1  POLYGON ((-315000.000 369000.000, -315000.000 ...  \n",
       "2  POLYGON ((-315000.000 370000.000, -315000.000 ...  \n",
       "3  POLYGON ((-309000.000 393000.000, -309000.000 ...  \n",
       "4  POLYGON ((-309000.000 394000.000, -309000.000 ...  "
      ]
     },
     "execution_count": 3,
     "metadata": {},
     "output_type": "execute_result"
    }
   ],
   "source": [
    "example.head()"
   ]
  },
  {
   "cell_type": "markdown",
   "metadata": {},
   "source": [
    "Then, we'll grab just the Alameda Country tracts."
   ]
  },
  {
   "cell_type": "code",
   "execution_count": 4,
   "metadata": {},
   "outputs": [
    {
     "data": {
      "text/plain": [
       "0    POLYGON ((-316000.000 369000.000, -316000.000 ...\n",
       "1    POLYGON ((-315000.000 369000.000, -315000.000 ...\n",
       "2    POLYGON ((-315000.000 370000.000, -315000.000 ...\n",
       "3    POLYGON ((-309000.000 393000.000, -309000.000 ...\n",
       "4    POLYGON ((-309000.000 394000.000, -309000.000 ...\n",
       "Name: geometry, dtype: geometry"
      ]
     },
     "execution_count": 4,
     "metadata": {},
     "output_type": "execute_result"
    }
   ],
   "source": [
    "example['geometry'].head()"
   ]
  },
  {
   "cell_type": "code",
   "execution_count": 5,
   "metadata": {},
   "outputs": [],
   "source": [
    "sheet = gpd.read_file(\"/Users/aptegroup/Downloads/Thomas-Research/stk12/stk12_splice - stk12_FULL_0308.csv\")\n"
   ]
  },
  {
   "cell_type": "code",
   "execution_count": 6,
   "metadata": {},
   "outputs": [
    {
     "data": {
      "text/plain": [
       "0    -117.383\n",
       "1    -117.383\n",
       "2    -117.383\n",
       "3    -117.383\n",
       "4    -117.383\n",
       "5    -117.383\n",
       "Name: Long_WGS84, dtype: object"
      ]
     },
     "execution_count": 6,
     "metadata": {},
     "output_type": "execute_result"
    }
   ],
   "source": [
    "sheet.Long_WGS84"
   ]
  },
  {
   "cell_type": "code",
   "execution_count": 7,
   "metadata": {},
   "outputs": [
    {
     "data": {
      "text/html": [
       "<div>\n",
       "<style scoped>\n",
       "    .dataframe tbody tr th:only-of-type {\n",
       "        vertical-align: middle;\n",
       "    }\n",
       "\n",
       "    .dataframe tbody tr th {\n",
       "        vertical-align: top;\n",
       "    }\n",
       "\n",
       "    .dataframe thead th {\n",
       "        text-align: right;\n",
       "    }\n",
       "</style>\n",
       "<table border=\"1\" class=\"dataframe\">\n",
       "  <thead>\n",
       "    <tr style=\"text-align: right;\">\n",
       "      <th></th>\n",
       "      <th>field_1</th>\n",
       "      <th>arbid_facid</th>\n",
       "      <th>ARBID</th>\n",
       "      <th>facid2012</th>\n",
       "      <th>facid2017</th>\n",
       "      <th>facidother</th>\n",
       "      <th>arbid_facid_12</th>\n",
       "      <th>RECODE</th>\n",
       "      <th>DIS</th>\n",
       "      <th>AB</th>\n",
       "      <th>...</th>\n",
       "      <th>VOC</th>\n",
       "      <th>NH3</th>\n",
       "      <th>Lat_WGS84</th>\n",
       "      <th>Long_WGS84</th>\n",
       "      <th>DUP</th>\n",
       "      <th>count_ARB</th>\n",
       "      <th>TON</th>\n",
       "      <th>NA_val2</th>\n",
       "      <th>LL_SOURCE</th>\n",
       "      <th>geometry</th>\n",
       "    </tr>\n",
       "  </thead>\n",
       "  <tbody>\n",
       "    <tr>\n",
       "      <th>0</th>\n",
       "      <td>1</td>\n",
       "      <td>100001_50001051</td>\n",
       "      <td>100001</td>\n",
       "      <td>50001051</td>\n",
       "      <td>50001051</td>\n",
       "      <td>NA</td>\n",
       "      <td>100001_50001051</td>\n",
       "      <td>FALSE</td>\n",
       "      <td>MOJ</td>\n",
       "      <td>MD</td>\n",
       "      <td>...</td>\n",
       "      <td>0.0508</td>\n",
       "      <td>7.0234</td>\n",
       "      <td>35.766</td>\n",
       "      <td>-117.383</td>\n",
       "      <td>FALSE</td>\n",
       "      <td>1</td>\n",
       "      <td>FALSE</td>\n",
       "      <td>FALSE</td>\n",
       "      <td>LL</td>\n",
       "      <td>POINT (-117.38300 35.76600)</td>\n",
       "    </tr>\n",
       "    <tr>\n",
       "      <th>1</th>\n",
       "      <td>2</td>\n",
       "      <td>100001_50001051</td>\n",
       "      <td>100001</td>\n",
       "      <td>50001051</td>\n",
       "      <td>50001051</td>\n",
       "      <td>NA</td>\n",
       "      <td>100001_50001051</td>\n",
       "      <td>FALSE</td>\n",
       "      <td>MOJ</td>\n",
       "      <td>MD</td>\n",
       "      <td>...</td>\n",
       "      <td>0</td>\n",
       "      <td>0</td>\n",
       "      <td>35.766</td>\n",
       "      <td>-117.383</td>\n",
       "      <td>FALSE</td>\n",
       "      <td>1</td>\n",
       "      <td>FALSE</td>\n",
       "      <td>FALSE</td>\n",
       "      <td>LL</td>\n",
       "      <td>POINT (-117.38300 35.76600)</td>\n",
       "    </tr>\n",
       "    <tr>\n",
       "      <th>2</th>\n",
       "      <td>3</td>\n",
       "      <td>100001_50001051</td>\n",
       "      <td>100001</td>\n",
       "      <td>50001051</td>\n",
       "      <td>50001051</td>\n",
       "      <td>NA</td>\n",
       "      <td>100001_50001051</td>\n",
       "      <td>FALSE</td>\n",
       "      <td>MOJ</td>\n",
       "      <td>MD</td>\n",
       "      <td>...</td>\n",
       "      <td>0</td>\n",
       "      <td>0</td>\n",
       "      <td>35.766</td>\n",
       "      <td>-117.383</td>\n",
       "      <td>FALSE</td>\n",
       "      <td>1</td>\n",
       "      <td>FALSE</td>\n",
       "      <td>FALSE</td>\n",
       "      <td>LL</td>\n",
       "      <td>POINT (-117.38300 35.76600)</td>\n",
       "    </tr>\n",
       "    <tr>\n",
       "      <th>3</th>\n",
       "      <td>4</td>\n",
       "      <td>100001_50001051</td>\n",
       "      <td>100001</td>\n",
       "      <td>50001051</td>\n",
       "      <td>50001051</td>\n",
       "      <td>NA</td>\n",
       "      <td>100001_50001051</td>\n",
       "      <td>FALSE</td>\n",
       "      <td>MOJ</td>\n",
       "      <td>MD</td>\n",
       "      <td>...</td>\n",
       "      <td>0</td>\n",
       "      <td>0</td>\n",
       "      <td>35.766</td>\n",
       "      <td>-117.383</td>\n",
       "      <td>FALSE</td>\n",
       "      <td>1</td>\n",
       "      <td>FALSE</td>\n",
       "      <td>FALSE</td>\n",
       "      <td>LL</td>\n",
       "      <td>POINT (-117.38300 35.76600)</td>\n",
       "    </tr>\n",
       "    <tr>\n",
       "      <th>4</th>\n",
       "      <td>5</td>\n",
       "      <td>100001_50001051</td>\n",
       "      <td>100001</td>\n",
       "      <td>50001051</td>\n",
       "      <td>50001051</td>\n",
       "      <td>NA</td>\n",
       "      <td>100001_50001051</td>\n",
       "      <td>FALSE</td>\n",
       "      <td>MOJ</td>\n",
       "      <td>MD</td>\n",
       "      <td>...</td>\n",
       "      <td>0</td>\n",
       "      <td>0</td>\n",
       "      <td>35.766</td>\n",
       "      <td>-117.383</td>\n",
       "      <td>FALSE</td>\n",
       "      <td>1</td>\n",
       "      <td>FALSE</td>\n",
       "      <td>FALSE</td>\n",
       "      <td>LL</td>\n",
       "      <td>POINT (-117.38300 35.76600)</td>\n",
       "    </tr>\n",
       "  </tbody>\n",
       "</table>\n",
       "<p>5 rows × 40 columns</p>\n",
       "</div>"
      ],
      "text/plain": [
       "  field_1      arbid_facid   ARBID facid2012 facid2017 facidother  \\\n",
       "0       1  100001_50001051  100001  50001051  50001051         NA   \n",
       "1       2  100001_50001051  100001  50001051  50001051         NA   \n",
       "2       3  100001_50001051  100001  50001051  50001051         NA   \n",
       "3       4  100001_50001051  100001  50001051  50001051         NA   \n",
       "4       5  100001_50001051  100001  50001051  50001051         NA   \n",
       "\n",
       "    arbid_facid_12 RECODE  DIS  AB  ...     VOC     NH3 Lat_WGS84 Long_WGS84  \\\n",
       "0  100001_50001051  FALSE  MOJ  MD  ...  0.0508  7.0234    35.766   -117.383   \n",
       "1  100001_50001051  FALSE  MOJ  MD  ...       0       0    35.766   -117.383   \n",
       "2  100001_50001051  FALSE  MOJ  MD  ...       0       0    35.766   -117.383   \n",
       "3  100001_50001051  FALSE  MOJ  MD  ...       0       0    35.766   -117.383   \n",
       "4  100001_50001051  FALSE  MOJ  MD  ...       0       0    35.766   -117.383   \n",
       "\n",
       "     DUP count_ARB    TON NA_val2 LL_SOURCE                     geometry  \n",
       "0  FALSE         1  FALSE   FALSE        LL  POINT (-117.38300 35.76600)  \n",
       "1  FALSE         1  FALSE   FALSE        LL  POINT (-117.38300 35.76600)  \n",
       "2  FALSE         1  FALSE   FALSE        LL  POINT (-117.38300 35.76600)  \n",
       "3  FALSE         1  FALSE   FALSE        LL  POINT (-117.38300 35.76600)  \n",
       "4  FALSE         1  FALSE   FALSE        LL  POINT (-117.38300 35.76600)  \n",
       "\n",
       "[5 rows x 40 columns]"
      ]
     },
     "execution_count": 7,
     "metadata": {},
     "output_type": "execute_result"
    }
   ],
   "source": [
    "sheet_gdf = gpd.GeoDataFrame(\n",
    "                sheet, geometry = gpd.points_from_xy(sheet.Long_WGS84,sheet.Lat_WGS84), crs='EPSG:4326')\n",
    "sheet_gdf.head()"
   ]
  },
  {
   "cell_type": "code",
   "execution_count": 8,
   "metadata": {},
   "outputs": [
    {
     "data": {
      "text/html": [
       "<div>\n",
       "<style scoped>\n",
       "    .dataframe tbody tr th:only-of-type {\n",
       "        vertical-align: middle;\n",
       "    }\n",
       "\n",
       "    .dataframe tbody tr th {\n",
       "        vertical-align: top;\n",
       "    }\n",
       "\n",
       "    .dataframe thead th {\n",
       "        text-align: right;\n",
       "    }\n",
       "</style>\n",
       "<table border=\"1\" class=\"dataframe\">\n",
       "  <thead>\n",
       "    <tr style=\"text-align: right;\">\n",
       "      <th></th>\n",
       "      <th>field_1</th>\n",
       "      <th>I_CELL</th>\n",
       "      <th>ARBID</th>\n",
       "      <th>facid2012</th>\n",
       "      <th>J_CELL</th>\n",
       "      <th>facidother</th>\n",
       "      <th>arbid_facid_12</th>\n",
       "      <th>RECODE</th>\n",
       "      <th>DIS</th>\n",
       "      <th>AB</th>\n",
       "      <th>...</th>\n",
       "      <th>VOC</th>\n",
       "      <th>NH3</th>\n",
       "      <th>Lat_WGS84</th>\n",
       "      <th>Long_WGS84</th>\n",
       "      <th>DUP</th>\n",
       "      <th>count_ARB</th>\n",
       "      <th>TON</th>\n",
       "      <th>NA_val2</th>\n",
       "      <th>LL_SOURCE</th>\n",
       "      <th>geometry</th>\n",
       "    </tr>\n",
       "  </thead>\n",
       "  <tbody>\n",
       "    <tr>\n",
       "      <th>0</th>\n",
       "      <td>1</td>\n",
       "      <td>100001_50001051</td>\n",
       "      <td>100001</td>\n",
       "      <td>50001051</td>\n",
       "      <td>50001051</td>\n",
       "      <td>NA</td>\n",
       "      <td>100001_50001051</td>\n",
       "      <td>FALSE</td>\n",
       "      <td>MOJ</td>\n",
       "      <td>MD</td>\n",
       "      <td>...</td>\n",
       "      <td>0.0508</td>\n",
       "      <td>7.0234</td>\n",
       "      <td>35.766</td>\n",
       "      <td>-117.383</td>\n",
       "      <td>FALSE</td>\n",
       "      <td>1</td>\n",
       "      <td>FALSE</td>\n",
       "      <td>FALSE</td>\n",
       "      <td>LL</td>\n",
       "      <td>POINT (-117.38300 35.76600)</td>\n",
       "    </tr>\n",
       "    <tr>\n",
       "      <th>1</th>\n",
       "      <td>2</td>\n",
       "      <td>100001_50001051</td>\n",
       "      <td>100001</td>\n",
       "      <td>50001051</td>\n",
       "      <td>50001051</td>\n",
       "      <td>NA</td>\n",
       "      <td>100001_50001051</td>\n",
       "      <td>FALSE</td>\n",
       "      <td>MOJ</td>\n",
       "      <td>MD</td>\n",
       "      <td>...</td>\n",
       "      <td>0</td>\n",
       "      <td>0</td>\n",
       "      <td>35.766</td>\n",
       "      <td>-117.383</td>\n",
       "      <td>FALSE</td>\n",
       "      <td>1</td>\n",
       "      <td>FALSE</td>\n",
       "      <td>FALSE</td>\n",
       "      <td>LL</td>\n",
       "      <td>POINT (-117.38300 35.76600)</td>\n",
       "    </tr>\n",
       "    <tr>\n",
       "      <th>2</th>\n",
       "      <td>3</td>\n",
       "      <td>100001_50001051</td>\n",
       "      <td>100001</td>\n",
       "      <td>50001051</td>\n",
       "      <td>50001051</td>\n",
       "      <td>NA</td>\n",
       "      <td>100001_50001051</td>\n",
       "      <td>FALSE</td>\n",
       "      <td>MOJ</td>\n",
       "      <td>MD</td>\n",
       "      <td>...</td>\n",
       "      <td>0</td>\n",
       "      <td>0</td>\n",
       "      <td>35.766</td>\n",
       "      <td>-117.383</td>\n",
       "      <td>FALSE</td>\n",
       "      <td>1</td>\n",
       "      <td>FALSE</td>\n",
       "      <td>FALSE</td>\n",
       "      <td>LL</td>\n",
       "      <td>POINT (-117.38300 35.76600)</td>\n",
       "    </tr>\n",
       "    <tr>\n",
       "      <th>3</th>\n",
       "      <td>4</td>\n",
       "      <td>100001_50001051</td>\n",
       "      <td>100001</td>\n",
       "      <td>50001051</td>\n",
       "      <td>50001051</td>\n",
       "      <td>NA</td>\n",
       "      <td>100001_50001051</td>\n",
       "      <td>FALSE</td>\n",
       "      <td>MOJ</td>\n",
       "      <td>MD</td>\n",
       "      <td>...</td>\n",
       "      <td>0</td>\n",
       "      <td>0</td>\n",
       "      <td>35.766</td>\n",
       "      <td>-117.383</td>\n",
       "      <td>FALSE</td>\n",
       "      <td>1</td>\n",
       "      <td>FALSE</td>\n",
       "      <td>FALSE</td>\n",
       "      <td>LL</td>\n",
       "      <td>POINT (-117.38300 35.76600)</td>\n",
       "    </tr>\n",
       "    <tr>\n",
       "      <th>4</th>\n",
       "      <td>5</td>\n",
       "      <td>100001_50001051</td>\n",
       "      <td>100001</td>\n",
       "      <td>50001051</td>\n",
       "      <td>50001051</td>\n",
       "      <td>NA</td>\n",
       "      <td>100001_50001051</td>\n",
       "      <td>FALSE</td>\n",
       "      <td>MOJ</td>\n",
       "      <td>MD</td>\n",
       "      <td>...</td>\n",
       "      <td>0</td>\n",
       "      <td>0</td>\n",
       "      <td>35.766</td>\n",
       "      <td>-117.383</td>\n",
       "      <td>FALSE</td>\n",
       "      <td>1</td>\n",
       "      <td>FALSE</td>\n",
       "      <td>FALSE</td>\n",
       "      <td>LL</td>\n",
       "      <td>POINT (-117.38300 35.76600)</td>\n",
       "    </tr>\n",
       "  </tbody>\n",
       "</table>\n",
       "<p>5 rows × 40 columns</p>\n",
       "</div>"
      ],
      "text/plain": [
       "  field_1           I_CELL   ARBID facid2012    J_CELL facidother  \\\n",
       "0       1  100001_50001051  100001  50001051  50001051         NA   \n",
       "1       2  100001_50001051  100001  50001051  50001051         NA   \n",
       "2       3  100001_50001051  100001  50001051  50001051         NA   \n",
       "3       4  100001_50001051  100001  50001051  50001051         NA   \n",
       "4       5  100001_50001051  100001  50001051  50001051         NA   \n",
       "\n",
       "    arbid_facid_12 RECODE  DIS  AB  ...     VOC     NH3 Lat_WGS84 Long_WGS84  \\\n",
       "0  100001_50001051  FALSE  MOJ  MD  ...  0.0508  7.0234    35.766   -117.383   \n",
       "1  100001_50001051  FALSE  MOJ  MD  ...       0       0    35.766   -117.383   \n",
       "2  100001_50001051  FALSE  MOJ  MD  ...       0       0    35.766   -117.383   \n",
       "3  100001_50001051  FALSE  MOJ  MD  ...       0       0    35.766   -117.383   \n",
       "4  100001_50001051  FALSE  MOJ  MD  ...       0       0    35.766   -117.383   \n",
       "\n",
       "     DUP count_ARB    TON NA_val2 LL_SOURCE                     geometry  \n",
       "0  FALSE         1  FALSE   FALSE        LL  POINT (-117.38300 35.76600)  \n",
       "1  FALSE         1  FALSE   FALSE        LL  POINT (-117.38300 35.76600)  \n",
       "2  FALSE         1  FALSE   FALSE        LL  POINT (-117.38300 35.76600)  \n",
       "3  FALSE         1  FALSE   FALSE        LL  POINT (-117.38300 35.76600)  \n",
       "4  FALSE         1  FALSE   FALSE        LL  POINT (-117.38300 35.76600)  \n",
       "\n",
       "[5 rows x 40 columns]"
      ]
     },
     "execution_count": 8,
     "metadata": {},
     "output_type": "execute_result"
    }
   ],
   "source": [
    "column_change = sheet.rename(columns={\"arbid_facid\": \"I_CELL\", \"facid2017\": \"J_CELL\"})\n",
    "column_change.head()"
   ]
  },
  {
   "cell_type": "code",
   "execution_count": 15,
   "metadata": {},
   "outputs": [
    {
     "data": {
      "text/html": [
       "<div>\n",
       "<style scoped>\n",
       "    .dataframe tbody tr th:only-of-type {\n",
       "        vertical-align: middle;\n",
       "    }\n",
       "\n",
       "    .dataframe tbody tr th {\n",
       "        vertical-align: top;\n",
       "    }\n",
       "\n",
       "    .dataframe thead th {\n",
       "        text-align: right;\n",
       "    }\n",
       "</style>\n",
       "<table border=\"1\" class=\"dataframe\">\n",
       "  <thead>\n",
       "    <tr style=\"text-align: right;\">\n",
       "      <th></th>\n",
       "      <th>I_CELL</th>\n",
       "      <th>J_CELL</th>\n",
       "      <th>NH3</th>\n",
       "      <th>NOX</th>\n",
       "      <th>PM2.5</th>\n",
       "      <th>SOX</th>\n",
       "      <th>STKHT</th>\n",
       "      <th>VOC</th>\n",
       "      <th>geometry</th>\n",
       "    </tr>\n",
       "  </thead>\n",
       "  <tbody>\n",
       "    <tr>\n",
       "      <th>0</th>\n",
       "      <td>100001_50001051</td>\n",
       "      <td>50001051</td>\n",
       "      <td>7.0234</td>\n",
       "      <td>277.8495</td>\n",
       "      <td>29.6655</td>\n",
       "      <td>197.6732</td>\n",
       "      <td>260</td>\n",
       "      <td>0.0508</td>\n",
       "      <td>POINT (-117.38300 35.76600)</td>\n",
       "    </tr>\n",
       "    <tr>\n",
       "      <th>1</th>\n",
       "      <td>100001_50001051</td>\n",
       "      <td>50001051</td>\n",
       "      <td>0</td>\n",
       "      <td>0</td>\n",
       "      <td>12.5701</td>\n",
       "      <td>0</td>\n",
       "      <td>80</td>\n",
       "      <td>0</td>\n",
       "      <td>POINT (-117.38300 35.76600)</td>\n",
       "    </tr>\n",
       "    <tr>\n",
       "      <th>2</th>\n",
       "      <td>100001_50001051</td>\n",
       "      <td>50001051</td>\n",
       "      <td>0</td>\n",
       "      <td>0</td>\n",
       "      <td>0.0194</td>\n",
       "      <td>0</td>\n",
       "      <td>90</td>\n",
       "      <td>0</td>\n",
       "      <td>POINT (-117.38300 35.76600)</td>\n",
       "    </tr>\n",
       "    <tr>\n",
       "      <th>3</th>\n",
       "      <td>100001_50001051</td>\n",
       "      <td>50001051</td>\n",
       "      <td>0</td>\n",
       "      <td>0</td>\n",
       "      <td>0.121</td>\n",
       "      <td>0</td>\n",
       "      <td>130</td>\n",
       "      <td>0</td>\n",
       "      <td>POINT (-117.38300 35.76600)</td>\n",
       "    </tr>\n",
       "    <tr>\n",
       "      <th>4</th>\n",
       "      <td>100001_50001051</td>\n",
       "      <td>50001051</td>\n",
       "      <td>0</td>\n",
       "      <td>0</td>\n",
       "      <td>0.0093</td>\n",
       "      <td>0</td>\n",
       "      <td>15</td>\n",
       "      <td>0</td>\n",
       "      <td>POINT (-117.38300 35.76600)</td>\n",
       "    </tr>\n",
       "  </tbody>\n",
       "</table>\n",
       "</div>"
      ],
      "text/plain": [
       "            I_CELL    J_CELL     NH3       NOX    PM2.5       SOX STKHT  \\\n",
       "0  100001_50001051  50001051  7.0234  277.8495  29.6655  197.6732   260   \n",
       "1  100001_50001051  50001051       0         0  12.5701         0    80   \n",
       "2  100001_50001051  50001051       0         0   0.0194         0    90   \n",
       "3  100001_50001051  50001051       0         0    0.121         0   130   \n",
       "4  100001_50001051  50001051       0         0   0.0093         0    15   \n",
       "\n",
       "      VOC                     geometry  \n",
       "0  0.0508  POINT (-117.38300 35.76600)  \n",
       "1       0  POINT (-117.38300 35.76600)  \n",
       "2       0  POINT (-117.38300 35.76600)  \n",
       "3       0  POINT (-117.38300 35.76600)  \n",
       "4       0  POINT (-117.38300 35.76600)  "
      ]
     },
     "execution_count": 15,
     "metadata": {},
     "output_type": "execute_result"
    }
   ],
   "source": [
    "em_only = column_change[[\"I_CELL\", \"J_CELL\", \"NH3\", \"NOX\", \"PM2.5\", \"SOX\", \"STKHT\",\"VOC\", \"geometry\"]]\n",
    "em_only.head()\n",
    "#Ask what ROG means, source height vs stack height,"
   ]
  },
  {
   "cell_type": "code",
   "execution_count": 10,
   "metadata": {},
   "outputs": [
    {
     "data": {
      "text/plain": [
       "Index(['I_CELL', 'J_CELL', 'NH3', 'NOX', 'PM25', 'ROG', 'SOX', 'HEIGHT_M',\n",
       "       'geometry'],\n",
       "      dtype='object')"
      ]
     },
     "execution_count": 10,
     "metadata": {},
     "output_type": "execute_result"
    }
   ],
   "source": [
    "example.columns"
   ]
  },
  {
   "cell_type": "code",
   "execution_count": 11,
   "metadata": {
    "scrolled": true
   },
   "outputs": [
    {
     "data": {
      "text/plain": [
       "<Derived Projected CRS: PROJCS[\"MM5_sphere\",GEOGCS[\"Unknown datum based up ...>\n",
       "Name: MM5_sphere\n",
       "Axis Info [cartesian]:\n",
       "- [east]: Easting (metre)\n",
       "- [north]: Northing (metre)\n",
       "Area of Use:\n",
       "- undefined\n",
       "Coordinate Operation:\n",
       "- name: unnamed\n",
       "- method: Lambert Conic Conformal (2SP)\n",
       "Datum: D_custom\n",
       "- Ellipsoid: custom\n",
       "- Prime Meridian: custom"
      ]
     },
     "execution_count": 11,
     "metadata": {},
     "output_type": "execute_result"
    }
   ],
   "source": [
    "example.crs"
   ]
  },
  {
   "cell_type": "code",
   "execution_count": 13,
   "metadata": {},
   "outputs": [
    {
     "data": {
      "text/plain": [
       "<Geographic 2D CRS: EPSG:4326>\n",
       "Name: WGS 84\n",
       "Axis Info [ellipsoidal]:\n",
       "- Lat[north]: Geodetic latitude (degree)\n",
       "- Lon[east]: Geodetic longitude (degree)\n",
       "Area of Use:\n",
       "- name: World.\n",
       "- bounds: (-180.0, -90.0, 180.0, 90.0)\n",
       "Datum: World Geodetic System 1984 ensemble\n",
       "- Ellipsoid: WGS 84\n",
       "- Prime Meridian: Greenwich"
      ]
     },
     "execution_count": 13,
     "metadata": {},
     "output_type": "execute_result"
    }
   ],
   "source": [
    "em_only.crs"
   ]
  },
  {
   "cell_type": "code",
   "execution_count": 16,
   "metadata": {},
   "outputs": [],
   "source": [
    "em_only.to_file(\"basic.shp\")"
   ]
  },
  {
   "cell_type": "code",
   "execution_count": 25,
   "metadata": {},
   "outputs": [],
   "source": [
    "swap = em_only.to_crs(\"epsg:4326\")"
   ]
  },
  {
   "cell_type": "code",
   "execution_count": 26,
   "metadata": {},
   "outputs": [
    {
     "data": {
      "text/plain": [
       "<Geographic 2D CRS: EPSG:4326>\n",
       "Name: WGS 84\n",
       "Axis Info [ellipsoidal]:\n",
       "- Lat[north]: Geodetic latitude (degree)\n",
       "- Lon[east]: Geodetic longitude (degree)\n",
       "Area of Use:\n",
       "- name: World.\n",
       "- bounds: (-180.0, -90.0, 180.0, 90.0)\n",
       "Datum: World Geodetic System 1984 ensemble\n",
       "- Ellipsoid: WGS 84\n",
       "- Prime Meridian: Greenwich"
      ]
     },
     "execution_count": 26,
     "metadata": {},
     "output_type": "execute_result"
    }
   ],
   "source": [
    "swap.crs"
   ]
  },
  {
   "cell_type": "markdown",
   "metadata": {},
   "source": [
    "## Measurement Queries\n",
    "\n",
    "We'll start off with some simple measurement queries.\n",
    "\n",
    "For example, here's how we can get the areas of each of our Census tracts:"
   ]
  },
  {
   "cell_type": "code",
   "execution_count": null,
   "metadata": {},
   "outputs": [],
   "source": [
    "census_tracts_ac.area"
   ]
  },
  {
   "cell_type": "markdown",
   "metadata": {},
   "source": [
    "Okay! We got...numbers?\n",
    "\n",
    "What do those numbers mean? What are our units? And if we're not sure, how might be find out?\n",
    "\n",
    "Let's take a look at our CRS:"
   ]
  },
  {
   "cell_type": "code",
   "execution_count": null,
   "metadata": {},
   "outputs": [],
   "source": [
    "census_tracts_ac.crs"
   ]
  },
  {
   "cell_type": "markdown",
   "metadata": {},
   "source": [
    "Ah-ha! We're working in an unprojected CRS, with units of decimal degrees.\n",
    "\n",
    "**When doing spatial analysis, we will almost always want to work in a projected CRS that has natural distance units, such as meters!**\n",
    "\n",
    "Time to project!\n",
    "\n",
    "As previously, we'll use UTM Zone 10N with a NAD83 data. This is a good choice for our region of interest."
   ]
  },
  {
   "cell_type": "code",
   "execution_count": null,
   "metadata": {},
   "outputs": [],
   "source": [
    "census_tracts_ac_utm10 = census_tracts_ac.to_crs(\"epsg:26910\")"
   ]
  },
  {
   "cell_type": "code",
   "execution_count": null,
   "metadata": {},
   "outputs": [],
   "source": [
    "census_tracts_ac_utm10.crs"
   ]
  },
  {
   "cell_type": "markdown",
   "metadata": {},
   "source": [
    "Now, let's try our area calculation again."
   ]
  },
  {
   "cell_type": "code",
   "execution_count": null,
   "metadata": {},
   "outputs": [],
   "source": [
    "census_tracts_ac_utm10.area"
   ]
  },
  {
   "cell_type": "markdown",
   "metadata": {},
   "source": [
    "That looks much more reasonable! What are our units, now?\n",
    "\n",
    "You may have noticed that our Census tracts already have an area column in them.\n",
    "\n",
    "Let's do a confidence check on our results."
   ]
  },
  {
   "cell_type": "code",
   "execution_count": null,
   "metadata": {},
   "outputs": [],
   "source": [
    "# Calculate the area for the 0th feature\n",
    "census_tracts_ac_utm10.area[0]"
   ]
  },
  {
   "cell_type": "code",
   "execution_count": null,
   "metadata": {},
   "outputs": [],
   "source": [
    "# Get the area for the 0th feature according to its 'ALAND' attribute\n",
    "census_tracts['ALAND'][0]"
   ]
  },
  {
   "cell_type": "code",
   "execution_count": null,
   "metadata": {},
   "outputs": [],
   "source": [
    "# Check equivalence of the calculated areas and the 'ALAND' column\n",
    "census_tracts_ac_utm10['ALAND'].values == census_tracts_ac_utm10.area"
   ]
  },
  {
   "cell_type": "markdown",
   "metadata": {},
   "source": [
    "What explains this disagreement? Are the calculated areas incorrect?\n",
    "\n",
    "We can also sum the area for Alameda county by adding `.sum()` to the end of our area calculation:"
   ]
  },
  {
   "cell_type": "code",
   "execution_count": null,
   "metadata": {},
   "outputs": [],
   "source": [
    "census_tracts_ac_utm10.area.sum()"
   ]
  },
  {
   "cell_type": "markdown",
   "metadata": {},
   "source": [
    "We can actually look up how large Alameda County is to check our work. The county is 739 miles<sup>2</sup>, which is around 1,914,001,213 meters<sup>2</sup>. I'd say we're pretty close!\n",
    "\n",
    "As it turns out, we can similarly use another attribute to get the features' lengths.\n",
    "\n",
    "**NOTE**: In this case, given we're dealing with polygons, this is equivalent to getting the features' perimeters."
   ]
  },
  {
   "cell_type": "code",
   "execution_count": null,
   "metadata": {},
   "outputs": [],
   "source": [
    "census_tracts_ac_utm10.length"
   ]
  },
  {
   "cell_type": "markdown",
   "metadata": {
    "tags": []
   },
   "source": [
    "## Relationship Queries\n",
    "\n",
    "[Spatial relationship queries](https://en.wikipedia.org/wiki/Spatial_relation) consider how two geometries or sets of geometries relate to one another in space. \n",
    "\n",
    "<img src=\"https://upload.wikimedia.org/wikipedia/commons/5/55/TopologicSpatialRelarions2.png\" height=\"300px\"></img>\n",
    "\n",
    "Here is a list of the most commonly used GeoPandas methods to test spatial relationships:\n",
    "\n",
    "- [within](http://geopandas.org/reference.html?highlight=distance#geopandas.GeoSeries.within)\n",
    "- [contains](http://geopandas.org/reference.html?highlight=distance#geopandas.GeoSeries.contains) (the inverse of `within`)\n",
    "- [intersects](http://geopandas.org/reference.html?highlight=distance#geopandas.GeoSeries.intersects)\n",
    "\n",
    "There several other GeoPandas spatial relationship predicates, but they are more complex to properly employ. For example, the following two operations only work with geometries that are completely aligned.\n",
    "\n",
    "- [touches](http://geopandas.org/reference.html?highlight=distance#geopandas.GeoSeries.touches)\n",
    "- [equals](http://geopandas.org/reference.html?highlight=distance#geopandas.GeoSeries.equals)\n",
    "\n",
    "All of these methods takes the form:\n",
    "\n",
    "    Geoseries.<predicate>(geometry)\n",
    "    \n",
    "For example:\n",
    "\n",
    "    Geoseries.contains(geometry)\n",
    "\n",
    "Let's load a new dataset to demonstrate these queries.\n",
    "\n",
    "This is a dataset containing all the protected areas (parks and the like) in California."
   ]
  },
  {
   "cell_type": "code",
   "execution_count": null,
   "metadata": {},
   "outputs": [],
   "source": [
    "parks = gpd.read_file('../data/protected_areas/CPAD_2020a_Units.shp')"
   ]
  },
  {
   "cell_type": "markdown",
   "metadata": {},
   "source": [
    "Does this need to be reprojected too?"
   ]
  },
  {
   "cell_type": "code",
   "execution_count": null,
   "metadata": {},
   "outputs": [],
   "source": [
    "parks.crs"
   ]
  },
  {
   "cell_type": "markdown",
   "metadata": {},
   "source": [
    "Yes it does!\n",
    "\n",
    "Let's reproject it."
   ]
  },
  {
   "cell_type": "code",
   "execution_count": null,
   "metadata": {},
   "outputs": [],
   "source": [
    "parks_utm10 = parks.to_crs(\"epsg:26910\")"
   ]
  },
  {
   "cell_type": "markdown",
   "metadata": {},
   "source": [
    "One common use for spatial queries is for spatial subsetting of data.\n",
    "\n",
    "In our case, let's use `intersects` to find all of the parks that have land in Alameda County.\n",
    "\n",
    "But before we do that, let's take another look at our geometries."
   ]
  },
  {
   "cell_type": "code",
   "execution_count": null,
   "metadata": {},
   "outputs": [],
   "source": [
    "census_tracts_ac_utm10.geometry.type.unique()"
   ]
  },
  {
   "cell_type": "code",
   "execution_count": null,
   "metadata": {},
   "outputs": [],
   "source": [
    "census_tracts_ac_utm10.plot()"
   ]
  },
  {
   "cell_type": "markdown",
   "metadata": {},
   "source": [
    "Because we nave Census tracts, each of these rows is either a Polygon or a MultiPolygon. For our relationship query, we can actually simplify our geometry to be one polygon by using `unary_union`:"
   ]
  },
  {
   "cell_type": "code",
   "execution_count": null,
   "metadata": {},
   "outputs": [],
   "source": [
    "census_tracts_ac_utm10.geometry.unary_union"
   ]
  },
  {
   "cell_type": "code",
   "execution_count": null,
   "metadata": {},
   "outputs": [],
   "source": [
    "print(census_tracts_ac_utm10.geometry.unary_union)"
   ]
  },
  {
   "cell_type": "markdown",
   "metadata": {},
   "source": [
    "Now, we can go ahead and conduct our operation `intersects`:"
   ]
  },
  {
   "cell_type": "code",
   "execution_count": null,
   "metadata": {},
   "outputs": [],
   "source": [
    "parks_in_ac = parks_utm10.intersects(census_tracts_ac_utm10.geometry.unary_union)"
   ]
  },
  {
   "cell_type": "markdown",
   "metadata": {},
   "source": [
    "If we scroll the resulting GeoDataFrame to the right, we'll see that the `COUNTY` column of our resulting subset gives us a good confidence check on our results."
   ]
  },
  {
   "cell_type": "code",
   "execution_count": null,
   "metadata": {},
   "outputs": [],
   "source": [
    "parks_in_ac"
   ]
  },
  {
   "cell_type": "code",
   "execution_count": null,
   "metadata": {},
   "outputs": [],
   "source": [
    "parks_utm10[parks_in_ac].head()"
   ]
  },
  {
   "cell_type": "markdown",
   "metadata": {},
   "source": [
    "So does this overlay plot!"
   ]
  },
  {
   "cell_type": "code",
   "execution_count": null,
   "metadata": {},
   "outputs": [],
   "source": [
    "# Plot Census tracts\n",
    "ax = census_tracts_ac_utm10.plot(color='gray', figsize=(12, 16))\n",
    "# Plot parks\n",
    "parks_utm10[parks_in_ac].plot(ax=ax,\n",
    "                              column='ACRES',\n",
    "                              cmap='summer',\n",
    "                              legend=True,\n",
    "                              edgecolor='black',\n",
    "                              linewidth=0.4, \n",
    "                              alpha=0.8,\n",
    "                              legend_kwds={'label': \"acres\", 'orientation': \"horizontal\"})\n",
    "ax.set_title('Protected areas in Alameda County, colored by area', size=18)"
   ]
  },
  {
   "cell_type": "markdown",
   "metadata": {},
   "source": [
    "---\n",
    "\n",
    "### Challenge 1: Spatial Relationship Query\n",
    "\n",
    "Let's use a spatial relationship query to create a new dataset containing Berkeley schools!\n",
    "\n",
    "Run the next two cells to load datasets containing Berkeley's city boundary and Alameda County's\n",
    "schools and to reproject them to EPSG: 26910.\n",
    "\n",
    "Then in the following cell, write your own code to:\n",
    "\n",
    "1. Subset the schools for only those `within` Berkeley.\n",
    "2. Plot the Berkeley boundary and then the schools as an overlay map.\n",
    "\n",
    "---"
   ]
  },
  {
   "cell_type": "code",
   "execution_count": null,
   "metadata": {},
   "outputs": [],
   "source": [
    "# Load the Berkeley boundary\n",
    "berkeley = gpd.read_file(\"../data/berkeley/BerkeleyCityLimits.shp\")\n",
    "# Transform to EPSG:26910\n",
    "berkeley_utm10 = berkeley.to_crs(\"epsg:26910\")\n",
    "# Look at GeoDataFrame\n",
    "berkeley_utm10.head()"
   ]
  },
  {
   "cell_type": "code",
   "execution_count": null,
   "metadata": {},
   "outputs": [],
   "source": [
    "# Load the Alameda County schools CSV\n",
    "schools_df = pd.read_csv('../data/alco_schools.csv')\n",
    "# Convert it to a GeoDataFrame\n",
    "schools_gdf = gpd.GeoDataFrame(schools_df, \n",
    "                               geometry=gpd.points_from_xy(schools_df.X, schools_df.Y))\n",
    "# Define its unprojected (EPSG:4326) CRS\n",
    "schools_gdf.crs = \"epsg:4326\"\n",
    "# Transform to EPSG:26910\n",
    "schools_gdf_utm10 = schools_gdf.to_crs(\"epsg:26910\")\n",
    "# Look at GeoDataFrame\n",
    "schools_df.head()"
   ]
  },
  {
   "cell_type": "code",
   "execution_count": null,
   "metadata": {},
   "outputs": [],
   "source": [
    "# YOUR CODE HERE\n"
   ]
  },
  {
   "cell_type": "markdown",
   "metadata": {},
   "source": [
    "## Proximity Analysis\n",
    "\n",
    "Now that we've seen the basic idea of spatial measurement and relationship queries, let's take a look at a common analysis that combines those concepts: **promximity analysis**.\n",
    "\n",
    "Proximity analysis seeks to identify all features in a focal feature set that are within some maximum distance of features in a reference feature set.\n",
    "\n",
    "A common workflow for this analysis is:\n",
    "\n",
    "1. Buffer (i.e. add a margin around) the reference dataset, out to the maximum distance.\n",
    "2. Run a spatial relationship query to find all focal features that intersect (or are within) the buffer.\n",
    "\n",
    "Let's read in our bike boulevard data again. We'll find out which of our Berkeley schools are within a block's distance (200 m) of the boulevards."
   ]
  },
  {
   "cell_type": "code",
   "execution_count": null,
   "metadata": {},
   "outputs": [],
   "source": [
    "bike_blvds = gpd.read_file('../data/transportation/BerkeleyBikeBlvds.geojson')\n",
    "bike_blvds.plot()"
   ]
  },
  {
   "cell_type": "markdown",
   "metadata": {},
   "source": [
    "Of course, we need to reproject the boulevards to our projected CRS."
   ]
  },
  {
   "cell_type": "code",
   "execution_count": null,
   "metadata": {},
   "outputs": [],
   "source": [
    "bike_blvds_utm10 = bike_blvds.to_crs(\"epsg:26910\")"
   ]
  },
  {
   "cell_type": "markdown",
   "metadata": {},
   "source": [
    "Now we can create our 200 meter bike boulevard buffers."
   ]
  },
  {
   "cell_type": "code",
   "execution_count": null,
   "metadata": {},
   "outputs": [],
   "source": [
    "bike_blvds_utm10.crs"
   ]
  },
  {
   "cell_type": "code",
   "execution_count": null,
   "metadata": {},
   "outputs": [],
   "source": [
    "bike_blvds_buf = bike_blvds_utm10.buffer(distance=200)"
   ]
  },
  {
   "cell_type": "code",
   "execution_count": null,
   "metadata": {},
   "outputs": [],
   "source": [
    "bike_blvds_buf.head()"
   ]
  },
  {
   "cell_type": "markdown",
   "metadata": {},
   "source": [
    "Now, let's overlay everything."
   ]
  },
  {
   "cell_type": "code",
   "execution_count": null,
   "metadata": {},
   "outputs": [],
   "source": [
    "fig, ax = plt.subplots(figsize=(10, 10))\n",
    "# Plot Berkeley city boundary\n",
    "berkeley_utm10.plot(color='lightgrey', ax=ax)\n",
    "# Plot buffer\n",
    "bike_blvds_buf.plot(color='pink', ax=ax, alpha=0.5)\n",
    "# Plot bicycle boulevards\n",
    "bike_blvds_utm10.plot(ax=ax)\n",
    "# Plot Berkeley schools\n",
    "berkeley_schools.plot(color='purple',ax=ax)"
   ]
  },
  {
   "cell_type": "markdown",
   "metadata": {},
   "source": [
    "Great! Looks like we're all ready to run our intersection to complete the proximity analysis.\n",
    "\n",
    "**NOTE**: In order to subset with our buffers, we need to call the `unary_union` attribute of the buffer object. This gives us a single unified polygon, rather than a series of multipolygons representing buffers around each of the points in our multilines."
   ]
  },
  {
   "cell_type": "code",
   "execution_count": null,
   "metadata": {},
   "outputs": [],
   "source": [
    "schools_near_blvds = berkeley_schools.within(bike_blvds_buf.unary_union)\n",
    "blvd_schools = berkeley_schools[schools_near_blvds]"
   ]
  },
  {
   "cell_type": "markdown",
   "metadata": {},
   "source": [
    "Now let's overlay again, to see if the schools we subsetted make sense."
   ]
  },
  {
   "cell_type": "code",
   "execution_count": null,
   "metadata": {},
   "outputs": [],
   "source": [
    "fig, ax = plt.subplots(figsize=(10, 10))\n",
    "# Plot Berkeley city boundary\n",
    "berkeley_utm10.plot(color='lightgrey', ax=ax)\n",
    "# Plot buffer\n",
    "bike_blvds_buf.plot(color='pink', ax=ax, alpha=0.5)\n",
    "# Plot bicycle boulevards\n",
    "bike_blvds_utm10.plot(ax=ax)\n",
    "# Plot Berkeley schools\n",
    "berkeley_schools.plot(color='purple',ax=ax)\n",
    "# Plot schools within buffer \n",
    "blvd_schools.plot(color='yellow', markersize=50, ax=ax)"
   ]
  },
  {
   "cell_type": "markdown",
   "metadata": {},
   "source": [
    "If we want to find the shortest distance from one school to the bike boulevards, we can use the `distance` function."
   ]
  },
  {
   "cell_type": "code",
   "execution_count": null,
   "metadata": {},
   "outputs": [],
   "source": [
    "berkeley_schools.distance(bike_blvds_utm10.unary_union)"
   ]
  },
  {
   "cell_type": "markdown",
   "metadata": {},
   "source": [
    "---\n",
    "\n",
    "### Challenge 2: Proximity Analysis\n",
    "\n",
    "Now it's your turn to try out a proximity analysis!\n",
    "\n",
    "Run the next cell to load BART-system data, reproject it to EPSG: 26910, and subset it to Berkeley.\n",
    "\n",
    "Then in the following cell, write your own code to find all schools within walking distance (1 km) of a BART station.\n",
    "\n",
    "As a reminder, let's break this into steps:\n",
    "\n",
    "1. Buffer your Berkeley BART stations to 1 km (**HINT**: remember your units!).\n",
    "2. Use the schools' `within` attribute to check whether or not they're within the buffers (**HINT**: don't forget the `unary_union`!).\n",
    "3. Subset the Berkeley schools using the object returned by your spatial relationship query.\n",
    "4. As always, plot your results for a good visual check!\n",
    "\n",
    "---"
   ]
  },
  {
   "cell_type": "code",
   "execution_count": null,
   "metadata": {},
   "outputs": [],
   "source": [
    "# Load the BART stations from CSV\n",
    "bart_stations = pd.read_csv('../data/transportation/bart.csv')\n",
    "# Convert to a GeoDataFrame\n",
    "bart_stations_gdf = gpd.GeoDataFrame(bart_stations, \n",
    "                                     geometry=gpd.points_from_xy(bart_stations.lon, bart_stations.lat))\n",
    "# Define its unprojected (EPSG:4326) CRS\n",
    "bart_stations_gdf.crs = \"epsg:4326\"\n",
    "# Transform to UTM Zone 10 N (EPSG:26910)\n",
    "bart_stations_gdf_utm10 = bart_stations_gdf.to_crs(\"epsg:26910\")\n",
    "# Subset to Berkeley\n",
    "berkeley_bart = bart_stations_gdf_utm10[bart_stations_gdf_utm10.within(berkeley_utm10.unary_union)]"
   ]
  },
  {
   "cell_type": "code",
   "execution_count": null,
   "metadata": {},
   "outputs": [],
   "source": [
    "# YOUR CODE HERE\n"
   ]
  }
 ],
 "metadata": {
  "kernelspec": {
   "display_name": "Python 3 (ipykernel)",
   "language": "python",
   "name": "python3"
  },
  "language_info": {
   "codemirror_mode": {
    "name": "ipython",
    "version": 3
   },
   "file_extension": ".py",
   "mimetype": "text/x-python",
   "name": "python",
   "nbconvert_exporter": "python",
   "pygments_lexer": "ipython3",
   "version": "3.10.6"
  }
 },
 "nbformat": 4,
 "nbformat_minor": 4
}
